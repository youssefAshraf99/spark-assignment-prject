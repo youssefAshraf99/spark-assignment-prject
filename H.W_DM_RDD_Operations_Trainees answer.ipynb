{
 "cells": [
  {
   "cell_type": "markdown",
   "id": "2568221b",
   "metadata": {},
   "source": [
    "### Import the required libraries then Create SparkContext"
   ]
  },
  {
   "cell_type": "code",
   "execution_count": 1,
   "id": "65e6978c",
   "metadata": {},
   "outputs": [],
   "source": [
    "# Import the required libraries\n",
    "from pyspark import SparkContext\n",
    "\n"
   ]
  },
  {
   "cell_type": "markdown",
   "id": "e9a7d9c6",
   "metadata": {},
   "source": [
    "### Create and display an RDD from the following list"
   ]
  },
  {
   "cell_type": "code",
   "execution_count": 2,
   "id": "409084ef",
   "metadata": {},
   "outputs": [],
   "source": [
    "sc = SparkContext()\n",
    "\n",
    "list = [('JK', 22), ('V', 24), ('Jimin',24), ('RM', 25), ('J-Hope', 25), ('Suga', 26), ('Jin', 27)]"
   ]
  },
  {
   "cell_type": "code",
   "execution_count": 4,
   "id": "09e1b9a2",
   "metadata": {},
   "outputs": [
    {
     "name": "stderr",
     "output_type": "stream",
     "text": [
      "                                                                                \r"
     ]
    },
    {
     "name": "stdout",
     "output_type": "stream",
     "text": [
      "[('JK', 22), ('V', 24), ('Jimin', 24), ('RM', 25), ('J-Hope', 25), ('Suga', 26), ('Jin', 27)]\n"
     ]
    }
   ],
   "source": [
    "rdd = sc.parallelize(list)\n",
    "\n",
    "# Display the RDD using collect method\n",
    "print(rdd.collect())"
   ]
  },
  {
   "cell_type": "markdown",
   "id": "823af0d6",
   "metadata": {},
   "source": [
    "### Create a sample1.txt file to contain the text shown below."
   ]
  },
  {
   "cell_type": "code",
   "execution_count": 13,
   "id": "66668929",
   "metadata": {},
   "outputs": [
    {
     "data": {
      "text/plain": [
       "352"
      ]
     },
     "execution_count": 13,
     "metadata": {},
     "output_type": "execute_result"
    }
   ],
   "source": [
    "file = open(\"sample1.txt\", \"w\")\n",
    "\n",
    "# Write the text to the file\n",
    "file.write('''\n",
    "Utilitatis causa amicitia est quaesita.\n",
    "Lorem ipsum dolor sit amet, consectetur adipiscing elit. \n",
    "Collatio igitur ista tenihil iuvat. \n",
    "Honesta oratio, Socratica, Platonis etiam. \n",
    "Primum in nostranepotestate est, quid meminerimus? \n",
    "Duo Reges: constructio interrete.\n",
    "Quid, sietiam iucunda memoria est praeteritorum malorum? \n",
    "Si quidem, inquit, tollerem,''')"
   ]
  },
  {
   "cell_type": "markdown",
   "id": "49249054",
   "metadata": {},
   "source": [
    "### Read sample1.txt file into RDD and displaying the first 4 elements"
   ]
  },
  {
   "cell_type": "code",
   "execution_count": 18,
   "id": "0732dc1d",
   "metadata": {},
   "outputs": [
    {
     "name": "stderr",
     "output_type": "stream",
     "text": [
      "[Stage 5:>                                                          (0 + 1) / 1]\r"
     ]
    },
    {
     "name": "stdout",
     "output_type": "stream",
     "text": [
      "['Utilitatis causa amicitia est quaesita.', 'Lorem ipsum dolor sit amet, consectetur adipiscing elit. ', 'Collatio igitur ista tenihil iuvat. ', 'Honesta oratio, Socratica, Platonis etiam. '] /n\n"
     ]
    },
    {
     "name": "stderr",
     "output_type": "stream",
     "text": [
      "                                                                                \r"
     ]
    }
   ],
   "source": [
    "\n",
    "rdd = sc.textFile(\"sample1.txt\")\n",
    "\n",
    "print(rdd.take(4))\n"
   ]
  },
  {
   "cell_type": "markdown",
   "id": "f0194c12",
   "metadata": {},
   "source": [
    "### Count the total number of rows in RDD"
   ]
  },
  {
   "cell_type": "code",
   "execution_count": 19,
   "id": "09f9d486",
   "metadata": {},
   "outputs": [
    {
     "name": "stderr",
     "output_type": "stream",
     "text": [
      "                                                                                \r"
     ]
    },
    {
     "data": {
      "text/plain": [
       "8"
      ]
     },
     "execution_count": 19,
     "metadata": {},
     "output_type": "execute_result"
    }
   ],
   "source": [
    "rdd.count()"
   ]
  },
  {
   "cell_type": "markdown",
   "id": "e7c4dc87",
   "metadata": {},
   "source": [
    "### Create a function to convert the data into lower case and splitting it"
   ]
  },
  {
   "cell_type": "code",
   "execution_count": 24,
   "id": "82cd28bc",
   "metadata": {
    "scrolled": true
   },
   "outputs": [
    {
     "name": "stdout",
     "output_type": "stream",
     "text": [
      "['utilitatis', 'causa', 'amicitia', 'est', 'quaesita.', 'lorem', 'ipsum', 'dolor', 'sit', 'amet,', 'consectetur', 'adipiscing', 'elit.', 'collatio', 'igitur', 'ista', 'tenihil', 'iuvat.', 'honesta', 'oratio,', 'socratica,', 'platonis', 'etiam.', 'primum', 'in', 'nostranepotestate', 'est,', 'quid', 'meminerimus?', 'duo', 'reges:', 'constructio', 'interrete.', 'quid,', 'sietiam', 'iucunda', 'memoria', 'est', 'praeteritorum', 'malorum?', 'si', 'quidem,', 'inquit,', 'tollerem'] \n",
      "\n"
     ]
    }
   ],
   "source": [
    "\n",
    "def lower_and_split(rdd):\n",
    "  rdd = rdd.lower()\n",
    "  rdd = rdd.split()\n",
    "  return rdd\n",
    "\n",
    "rdd = '''\n",
    "Utilitatis causa amicitia est quaesita.\n",
    "Lorem ipsum dolor sit amet, consectetur adipiscing elit. \n",
    "Collatio igitur ista tenihil iuvat. \n",
    "Honesta oratio, Socratica, Platonis etiam. \n",
    "Primum in nostranepotestate est, quid meminerimus? \n",
    "Duo Reges: constructio interrete.\n",
    "Quid, sietiam iucunda memoria est praeteritorum malorum? \n",
    "Si quidem, inquit, tollerem\n",
    "'''\n",
    "result = lower_and_split(rdd)\n",
    "print(result,\"\\n\")\n"
   ]
  },
  {
   "cell_type": "markdown",
   "id": "7437d37f",
   "metadata": {},
   "source": [
    "### Remove the stopwords from the previous text. i.e. Remove it."
   ]
  },
  {
   "cell_type": "code",
   "execution_count": 3,
   "id": "358d6cd7",
   "metadata": {},
   "outputs": [],
   "source": [
    "stopwords = ['a','all','the','as','is','am','an','and',\n",
    "             'be','been','from','had','I','I’d','why','with']\n",
    "# Hint: you may need use flatMap"
   ]
  },
  {
   "cell_type": "code",
   "execution_count": 1,
   "id": "7a03bf98",
   "metadata": {},
   "outputs": [],
   "source": [
    "def filter_stopwords(words):\n",
    "  filtered_words = []\n",
    "  for word in words:\n",
    "    if word not in stopwords:\n",
    "      filtered_words.append(word)\n",
    "  return filtered_words\n",
    "\n",
    "rdd = '''\n",
    "Utilitatis causa amicitia est quaesita.\n",
    "Lorem ipsum dolor sit amet, consectetur adipiscing elit. \n",
    "Collatio igitur ista tenihil iuvat. \n",
    "Honesta oratio, Socratica, Platonis etiam. \n",
    "Primum in nostranepotestate est, quid meminerimus? \n",
    "Duo Reges: constructio interrete.\n",
    "Quid, sietiam iucunda memoria est praeteritorum malorum? \n",
    "Si quidem, inquit, tollerem\n",
    "'''\n",
    "rdd = rdd.map(lower_and_split)\n",
    "\n",
    "rdd = rdd.flatMap(filter_stopwords)\n",
    "\n",
    "print(rdd.collect())"
   ]
  },
  {
   "cell_type": "markdown",
   "id": "fb9f6058",
   "metadata": {},
   "source": [
    "### Find the words starting with ‘c’"
   ]
  },
  {
   "cell_type": "code",
   "execution_count": 28,
   "id": "65d9ebff",
   "metadata": {},
   "outputs": [
    {
     "name": "stderr",
     "output_type": "stream",
     "text": [
      "[Stage 8:>                                                          (0 + 2) / 2]\r"
     ]
    },
    {
     "name": "stdout",
     "output_type": "stream",
     "text": [
      "['causa', 'consectetur', 'collatio', 'constructio']\n"
     ]
    },
    {
     "name": "stderr",
     "output_type": "stream",
     "text": [
      "                                                                                \r"
     ]
    }
   ],
   "source": [
    "\n",
    "\n",
    "def filter_c(words):\n",
    "  filtered_words = []\n",
    "  for word in words:\n",
    "    if word.startswith('c'):\n",
    "      filtered_words.append(word)\n",
    "  return filtered_words\n",
    "\n",
    "rdd = rdd.map(lower_and_split)\n",
    "\n",
    "rdd = rdd.flatMap(filter_c)\n",
    "\n",
    "print(rdd.collect())\n"
   ]
  },
  {
   "cell_type": "markdown",
   "id": "eba39e2e",
   "metadata": {},
   "source": [
    "### Reduce the rdd by key and sum it (use the rdd from the following list)"
   ]
  },
  {
   "cell_type": "code",
   "execution_count": 29,
   "id": "f26dea46",
   "metadata": {},
   "outputs": [],
   "source": [
    "list = [('JK', 22), ('V', 24), ('Jimin',24), ('RM', 25)\n",
    "        , ('J-Hope', 25), ('Suga', 26), ('Jin', 27)\n",
    "       , ('J-Hope', 12), ('Suga', 25), ('Jin', 34)\n",
    "       , ('JK', 32), ('V', 44), ('Jimin',14), ('RM', 35)]\n",
    "# Hint: use reduceByKey"
   ]
  },
  {
   "cell_type": "code",
   "execution_count": 30,
   "id": "ae551b82",
   "metadata": {},
   "outputs": [
    {
     "name": "stderr",
     "output_type": "stream",
     "text": [
      "[Stage 10:=============================>                            (1 + 1) / 2]\r"
     ]
    },
    {
     "name": "stdout",
     "output_type": "stream",
     "text": [
      "[('Suga', 51), ('Jin', 61), ('JK', 54), ('V', 68), ('Jimin', 38), ('RM', 60), ('J-Hope', 37)]\n"
     ]
    },
    {
     "name": "stderr",
     "output_type": "stream",
     "text": [
      "                                                                                \r"
     ]
    }
   ],
   "source": [
    "rdd = sc.parallelize(list)\n",
    "\n",
    "rdd = rdd.reduceByKey(lambda x, y: x + y)\n",
    "\n",
    "# Display the RDD using collect method\n",
    "print(rdd.collect())\n"
   ]
  },
  {
   "cell_type": "markdown",
   "id": "a4587230",
   "metadata": {},
   "source": [
    "### Creat some key value pairs RDDs"
   ]
  },
  {
   "cell_type": "code",
   "execution_count": 31,
   "id": "cfb446ee",
   "metadata": {},
   "outputs": [],
   "source": [
    "rdd1 = sc.parallelize([('a',2),('b',3)])\n",
    "rdd2 = sc.parallelize([('a',9),('b',7),('c',10)])"
   ]
  },
  {
   "cell_type": "code",
   "execution_count": 32,
   "id": "e4ef9f47",
   "metadata": {},
   "outputs": [
    {
     "name": "stderr",
     "output_type": "stream",
     "text": [
      "[Stage 12:=============================>                            (2 + 2) / 4]\r"
     ]
    },
    {
     "name": "stdout",
     "output_type": "stream",
     "text": [
      "[('b', (3, 7)), ('a', (2, 9))]\n"
     ]
    },
    {
     "name": "stderr",
     "output_type": "stream",
     "text": [
      "                                                                                \r"
     ]
    }
   ],
   "source": [
    "\n",
    "rdd3 = rdd1.join(rdd2)\n",
    "\n",
    "print(rdd3.collect())\n"
   ]
  },
  {
   "cell_type": "markdown",
   "id": "98ec3168",
   "metadata": {},
   "source": [
    "### Perform Join operation on the RDDs (rdd1,rdd2)"
   ]
  },
  {
   "cell_type": "code",
   "execution_count": 33,
   "id": "c61b5926",
   "metadata": {},
   "outputs": [
    {
     "data": {
      "text/plain": [
       "[('b', (3, 7)), ('a', (2, 9))]"
      ]
     },
     "execution_count": 33,
     "metadata": {},
     "output_type": "execute_result"
    }
   ],
   "source": [
    "\n",
    "rdd3 = rdd1.join(rdd2)\n",
    "\n",
    "print(rdd3.collect())"
   ]
  }
 ],
 "metadata": {
  "kernelspec": {
   "display_name": "Python 3 (ipykernel)",
   "language": "python",
   "name": "python3"
  },
  "language_info": {
   "codemirror_mode": {
    "name": "ipython",
    "version": 3
   },
   "file_extension": ".py",
   "mimetype": "text/x-python",
   "name": "python",
   "nbconvert_exporter": "python",
   "pygments_lexer": "ipython3",
   "version": "3.11.4"
  }
 },
 "nbformat": 4,
 "nbformat_minor": 5
}
